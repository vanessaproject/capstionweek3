{
    "cells": [
        {
            "metadata": {
                "collapsed": true
            },
            "cell_type": "markdown",
            "source": "**Capstone Project - The Battle of Neighborhoods W1**\n"
        },
        {
            "metadata": {},
            "cell_type": "code",
            "source": "A description of the problem and a discussion of the background. ",
            "execution_count": null,
            "outputs": []
        },
        {
            "metadata": {},
            "cell_type": "code",
            "source": "A description of the data and how it will be used to solve the problem.",
            "execution_count": null,
            "outputs": []
        },
        {
            "metadata": {},
            "cell_type": "markdown",
            "source": "**Introduction | Business Problem**"
        },
        {
            "metadata": {},
            "cell_type": "markdown",
            "source": "This project will explore the cities of Los Angeles and see a potential area to open a Asian Fusion restaurant.  Los Angeles is a big city and finding a good area to open a establishment can be very challenging.\n\nUsing Data Scraping and Foursquare location will help get insight where to establish a restaurant or a business.  The resulting data will help potential stakeholders to decide where to invest. \n\n\n\n"
        },
        {
            "metadata": {},
            "cell_type": "markdown",
            "source": "**Data**"
        },
        {
            "metadata": {},
            "cell_type": "markdown",
            "source": "The source data will be coming from the following: \n\n**Python Beautifulsoup package**\nscraping data from Wikipeadia,https://en.wikipedia.org/wiki/List_of_cities_in_Los_Angeles_County,_California. \n\n**Geocoder**\nGetting the Longtitude and Latitude  of the neighborhood.\n\n**Foursquare API**\n\nTo get the venue data of the neighborhoods.\n\n"
        }
    ],
    "metadata": {
        "kernelspec": {
            "name": "python3",
            "display_name": "Python 3.7",
            "language": "python"
        },
        "language_info": {
            "name": "python",
            "version": "3.7.9",
            "mimetype": "text/x-python",
            "codemirror_mode": {
                "name": "ipython",
                "version": 3
            },
            "pygments_lexer": "ipython3",
            "nbconvert_exporter": "python",
            "file_extension": ".py"
        }
    },
    "nbformat": 4,
    "nbformat_minor": 1
}